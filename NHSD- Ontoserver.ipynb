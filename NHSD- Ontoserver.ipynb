{
 "cells": [
  {
   "cell_type": "code",
   "execution_count": 1,
   "id": "formed-enhancement",
   "metadata": {},
   "outputs": [],
   "source": [
    "import requests\n",
    "import json\n",
    "import pandas as pd"
   ]
  },
  {
   "cell_type": "code",
   "execution_count": 2,
   "id": "royal-victorian",
   "metadata": {},
   "outputs": [],
   "source": [
    "# NHS Terminology server sign-in details\n",
    "client_id = \"***\"\n",
    "client_secret = \"****\"\n",
    "\n",
    "#API endpoints\n",
    "authoring_server = \"https://ontology.nhs.uk/authoring/fhir\"\n",
    "production1_server = \"https://ontology.nhs.uk/production1/fhir\"\n",
    "production2_server = \"https://ontology.nhs.uk/production2/fhir\"\n",
    "token_server = \"https://ontology.nhs.uk/authorisation/auth/realms/nhs-digital-terminology/protocol/openid-connect/token\"\n",
    "authorisation_server = \"https://ontology.nhs.uk/authorisation/auth/realms/nhs-digital-terminology/protocol/openid-connect/auth\"\n",
    "\n",
    "# get access_token from token server\n",
    "auth_data =  {'grant_type': 'client_credentials', 'client_id': client_id, 'client_secret': client_secret} \n",
    "token_response_json = requests.post(token_server, data=auth_data).json()\n",
    "access_token=token_response_json['access_token']\n",
    "expires_in=token_response_json['expires_in'] # could be used to time new token request or refresh\n",
    "refresh_token=token_response_json['refresh_token'] # can be used to refresh access_token\n"
   ]
  },
  {
   "cell_type": "code",
   "execution_count": 3,
   "id": "effective-wilson",
   "metadata": {},
   "outputs": [],
   "source": [
    "## function for pulling the ECDS (Emergency care data set) \n",
    "def RefList(RefsetId):\n",
    "    lookup_url=production1_server + '/ValueSet/$expand'\n",
    "    request_headers = {'Authorization': 'Bearer ' + access_token}\n",
    "    query={'url':'http://snomed.info/sct?fhir_vs=refset/' + RefsetId, 'count':1500}\n",
    "    lookup_response_json = requests.get(lookup_url, headers=request_headers, params=query).json()\n",
    "\n",
    "    _list = []\n",
    "    _list2 = []\n",
    "    for a in lookup_response_json['expansion']['contains']:\n",
    "        _list.append(a['code'])\n",
    "        _list2.append(a['display'])\n",
    "                    \n",
    "    #convert to a pandas dataframe and rename column headers\n",
    "    dataset = pd.DataFrame(list(zip(_list, _list2)),\n",
    "                  columns =['code', 'display'])\n",
    "    \n",
    "    return dataset\n"
   ]
  },
  {
   "cell_type": "code",
   "execution_count": 40,
   "id": "functioning-chain",
   "metadata": {},
   "outputs": [],
   "source": [
    "ECDS_diag = RefList('991411000000109') # diagnosis code list\n",
    "ECDS_CC = RefList('991401000000107') # chief complaints code list"
   ]
  },
  {
   "cell_type": "code",
   "execution_count": 3,
   "id": "removed-runner",
   "metadata": {},
   "outputs": [],
   "source": [
    "## Expression Constraint Language as function\n",
    "def ECL_to_conceptid(ecl):\n",
    "    lookup_url=production1_server + '/ValueSet/$expand'\n",
    "    request_headers = {'Authorization': 'Bearer ' + access_token}\n",
    "    query={'url':'http%3A%2F%2Fsnomed.info%2Fsct%3Ffhir_vs%3Decl%2F'+ ecl, 'count':1000}\n",
    "    lookup_response_json = requests.get(lookup_url, headers=request_headers, params=query).json()\n",
    "    _list = []\n",
    "    _list2 = []\n",
    "    for a in lookup_response_json['expansion']['contains']:\n",
    "        _list.append(a['code'])\n",
    "        _list2.append(a['display'])\n",
    "\n",
    "        \n",
    "    #convert to a pandas dataframe and rename column headers\n",
    "    dataset = pd.DataFrame(list(zip(_list, _list2)),\n",
    "                  columns =['code', 'display'])\n",
    "    \n",
    "    return dataset"
   ]
  },
  {
   "cell_type": "markdown",
   "id": "agreed-diabetes",
   "metadata": {},
   "source": [
    "# Vaccines list"
   ]
  },
  {
   "cell_type": "code",
   "execution_count": 5,
   "id": "hollow-productivity",
   "metadata": {},
   "outputs": [],
   "source": [
    "vaccine = ECL_to_conceptid('<<39330711000001103 OR (<<10363601000001109:<<10362601000001103= <<39330711000001103)')\n",
    "#vaccine.to_csv('v.csv')"
   ]
  },
  {
   "cell_type": "code",
   "execution_count": 31,
   "id": "interesting-cargo",
   "metadata": {},
   "outputs": [],
   "source": [
    "platelets = ECL_to_conceptid('<<22716005:<< 363713009 = << 281300000,<< 363714003 = << 61928009')\n",
    "thrombosis =  ECL_to_conceptid('<<64572001 : 116676008 = << 75753009')\n",
    "bloodclots = ECL_to_conceptid('<< 75753009')"
   ]
  },
  {
   "cell_type": "markdown",
   "id": "deadly-single",
   "metadata": {},
   "source": [
    "##  can thrombotic events be coded in ED datasets?"
   ]
  },
  {
   "cell_type": "code",
   "execution_count": 44,
   "id": "fifteen-michael",
   "metadata": {
    "scrolled": true
   },
   "outputs": [
    {
     "data": {
      "text/html": [
       "<div>\n",
       "<style scoped>\n",
       "    .dataframe tbody tr th:only-of-type {\n",
       "        vertical-align: middle;\n",
       "    }\n",
       "\n",
       "    .dataframe tbody tr th {\n",
       "        vertical-align: top;\n",
       "    }\n",
       "\n",
       "    .dataframe thead th {\n",
       "        text-align: right;\n",
       "    }\n",
       "</style>\n",
       "<table border=\"1\" class=\"dataframe\">\n",
       "  <thead>\n",
       "    <tr style=\"text-align: right;\">\n",
       "      <th></th>\n",
       "      <th>code</th>\n",
       "      <th>display</th>\n",
       "    </tr>\n",
       "  </thead>\n",
       "  <tbody>\n",
       "  </tbody>\n",
       "</table>\n",
       "</div>"
      ],
      "text/plain": [
       "Empty DataFrame\n",
       "Columns: [code, display]\n",
       "Index: []"
      ]
     },
     "execution_count": 44,
     "metadata": {},
     "output_type": "execute_result"
    }
   ],
   "source": [
    "platelets[platelets.code.isin(ECDS_CC['code'])]"
   ]
  },
  {
   "cell_type": "code",
   "execution_count": 43,
   "id": "systematic-newfoundland",
   "metadata": {},
   "outputs": [
    {
     "data": {
      "text/html": [
       "<div>\n",
       "<style scoped>\n",
       "    .dataframe tbody tr th:only-of-type {\n",
       "        vertical-align: middle;\n",
       "    }\n",
       "\n",
       "    .dataframe tbody tr th {\n",
       "        vertical-align: top;\n",
       "    }\n",
       "\n",
       "    .dataframe thead th {\n",
       "        text-align: right;\n",
       "    }\n",
       "</style>\n",
       "<table border=\"1\" class=\"dataframe\">\n",
       "  <thead>\n",
       "    <tr style=\"text-align: right;\">\n",
       "      <th></th>\n",
       "      <th>code</th>\n",
       "      <th>display</th>\n",
       "    </tr>\n",
       "  </thead>\n",
       "  <tbody>\n",
       "    <tr>\n",
       "      <th>50</th>\n",
       "      <td>266262004</td>\n",
       "      <td>Arterial embolus and thrombosis</td>\n",
       "    </tr>\n",
       "    <tr>\n",
       "      <th>83</th>\n",
       "      <td>68478007</td>\n",
       "      <td>Central retinal vein occlusion</td>\n",
       "    </tr>\n",
       "    <tr>\n",
       "      <th>139</th>\n",
       "      <td>128053003</td>\n",
       "      <td>Deep venous thrombosis</td>\n",
       "    </tr>\n",
       "    <tr>\n",
       "      <th>188</th>\n",
       "      <td>297157005</td>\n",
       "      <td>Intracranial venous thrombosis</td>\n",
       "    </tr>\n",
       "    <tr>\n",
       "      <th>326</th>\n",
       "      <td>40283005</td>\n",
       "      <td>Thrombophlebitis of superficial veins of lower...</td>\n",
       "    </tr>\n",
       "    <tr>\n",
       "      <th>459</th>\n",
       "      <td>24596005</td>\n",
       "      <td>Venous retinal branch occlusion</td>\n",
       "    </tr>\n",
       "  </tbody>\n",
       "</table>\n",
       "</div>"
      ],
      "text/plain": [
       "          code                                            display\n",
       "50   266262004                    Arterial embolus and thrombosis\n",
       "83    68478007                     Central retinal vein occlusion\n",
       "139  128053003                             Deep venous thrombosis\n",
       "188  297157005                     Intracranial venous thrombosis\n",
       "326   40283005  Thrombophlebitis of superficial veins of lower...\n",
       "459   24596005                    Venous retinal branch occlusion"
      ]
     },
     "execution_count": 43,
     "metadata": {},
     "output_type": "execute_result"
    }
   ],
   "source": [
    "thrombosis[thrombosis.code.isin(ECDS_diag['code'])]\n"
   ]
  },
  {
   "cell_type": "code",
   "execution_count": 24,
   "id": "blessed-homework",
   "metadata": {},
   "outputs": [
    {
     "data": {
      "text/html": [
       "<div>\n",
       "<style scoped>\n",
       "    .dataframe tbody tr th:only-of-type {\n",
       "        vertical-align: middle;\n",
       "    }\n",
       "\n",
       "    .dataframe tbody tr th {\n",
       "        vertical-align: top;\n",
       "    }\n",
       "\n",
       "    .dataframe thead th {\n",
       "        text-align: right;\n",
       "    }\n",
       "</style>\n",
       "<table border=\"1\" class=\"dataframe\">\n",
       "  <thead>\n",
       "    <tr style=\"text-align: right;\">\n",
       "      <th></th>\n",
       "      <th>code</th>\n",
       "      <th>display</th>\n",
       "    </tr>\n",
       "  </thead>\n",
       "  <tbody>\n",
       "    <tr>\n",
       "      <th>0</th>\n",
       "      <td>233985008</td>\n",
       "      <td>Abdominal aortic aneurysm</td>\n",
       "    </tr>\n",
       "    <tr>\n",
       "      <th>1</th>\n",
       "      <td>398925009</td>\n",
       "      <td>Abducens nerve disorder</td>\n",
       "    </tr>\n",
       "    <tr>\n",
       "      <th>2</th>\n",
       "      <td>274127000</td>\n",
       "      <td>Abnormal delivery</td>\n",
       "    </tr>\n",
       "    <tr>\n",
       "      <th>3</th>\n",
       "      <td>110167007</td>\n",
       "      <td>Abrasion of circumoral region of face</td>\n",
       "    </tr>\n",
       "    <tr>\n",
       "      <th>4</th>\n",
       "      <td>283051009</td>\n",
       "      <td>Abrasion of ear region</td>\n",
       "    </tr>\n",
       "    <tr>\n",
       "      <th>...</th>\n",
       "      <td>...</td>\n",
       "      <td>...</td>\n",
       "    </tr>\n",
       "    <tr>\n",
       "      <th>1181</th>\n",
       "      <td>276191000000107</td>\n",
       "      <td>Viral wheeze</td>\n",
       "    </tr>\n",
       "    <tr>\n",
       "      <th>1182</th>\n",
       "      <td>15013002</td>\n",
       "      <td>Vitreous floaters</td>\n",
       "    </tr>\n",
       "    <tr>\n",
       "      <th>1183</th>\n",
       "      <td>822061000000106</td>\n",
       "      <td>West Nile fever</td>\n",
       "    </tr>\n",
       "    <tr>\n",
       "      <th>1184</th>\n",
       "      <td>70647001</td>\n",
       "      <td>Yaws</td>\n",
       "    </tr>\n",
       "    <tr>\n",
       "      <th>1185</th>\n",
       "      <td>16541001</td>\n",
       "      <td>Yellow fever</td>\n",
       "    </tr>\n",
       "  </tbody>\n",
       "</table>\n",
       "<p>1186 rows × 2 columns</p>\n",
       "</div>"
      ],
      "text/plain": [
       "                 code                                display\n",
       "0           233985008              Abdominal aortic aneurysm\n",
       "1           398925009                Abducens nerve disorder\n",
       "2           274127000                      Abnormal delivery\n",
       "3           110167007  Abrasion of circumoral region of face\n",
       "4           283051009                 Abrasion of ear region\n",
       "...               ...                                    ...\n",
       "1181  276191000000107                           Viral wheeze\n",
       "1182         15013002                      Vitreous floaters\n",
       "1183  822061000000106                        West Nile fever\n",
       "1184         70647001                                   Yaws\n",
       "1185         16541001                           Yellow fever\n",
       "\n",
       "[1186 rows x 2 columns]"
      ]
     },
     "execution_count": 24,
     "metadata": {},
     "output_type": "execute_result"
    }
   ],
   "source": [
    "ECDS_diag # full ED diagnosis code list"
   ]
  },
  {
   "cell_type": "code",
   "execution_count": 21,
   "id": "diverse-serbia",
   "metadata": {},
   "outputs": [
    {
     "data": {
      "text/html": [
       "<div>\n",
       "<style scoped>\n",
       "    .dataframe tbody tr th:only-of-type {\n",
       "        vertical-align: middle;\n",
       "    }\n",
       "\n",
       "    .dataframe tbody tr th {\n",
       "        vertical-align: top;\n",
       "    }\n",
       "\n",
       "    .dataframe thead th {\n",
       "        text-align: right;\n",
       "    }\n",
       "</style>\n",
       "<table border=\"1\" class=\"dataframe\">\n",
       "  <thead>\n",
       "    <tr style=\"text-align: right;\">\n",
       "      <th></th>\n",
       "      <th>code</th>\n",
       "      <th>display</th>\n",
       "    </tr>\n",
       "  </thead>\n",
       "  <tbody>\n",
       "    <tr>\n",
       "      <th>0</th>\n",
       "      <td>55907008</td>\n",
       "      <td>Acquired aplastic anaemia</td>\n",
       "    </tr>\n",
       "    <tr>\n",
       "      <th>1</th>\n",
       "      <td>5876000</td>\n",
       "      <td>Acquired pancytopenia</td>\n",
       "    </tr>\n",
       "    <tr>\n",
       "      <th>2</th>\n",
       "      <td>234376007</td>\n",
       "      <td>Acquired red cell aplasia</td>\n",
       "    </tr>\n",
       "    <tr>\n",
       "      <th>3</th>\n",
       "      <td>74576004</td>\n",
       "      <td>Acquired thrombocytopenia</td>\n",
       "    </tr>\n",
       "    <tr>\n",
       "      <th>4</th>\n",
       "      <td>439007008</td>\n",
       "      <td>Acquired thrombotic thrombocytopenic purpura</td>\n",
       "    </tr>\n",
       "    <tr>\n",
       "      <th>...</th>\n",
       "      <td>...</td>\n",
       "      <td>...</td>\n",
       "    </tr>\n",
       "    <tr>\n",
       "      <th>136</th>\n",
       "      <td>416902009</td>\n",
       "      <td>Uraemic thrombocytopenia</td>\n",
       "    </tr>\n",
       "    <tr>\n",
       "      <th>137</th>\n",
       "      <td>403837005</td>\n",
       "      <td>Wiskott-Aldrich autosomal dominant variant syn...</td>\n",
       "    </tr>\n",
       "    <tr>\n",
       "      <th>138</th>\n",
       "      <td>36070007</td>\n",
       "      <td>Wiskott-Aldrich syndrome</td>\n",
       "    </tr>\n",
       "    <tr>\n",
       "      <th>139</th>\n",
       "      <td>719019000</td>\n",
       "      <td>WT limb blood syndrome</td>\n",
       "    </tr>\n",
       "    <tr>\n",
       "      <th>140</th>\n",
       "      <td>722475006</td>\n",
       "      <td>X-linked congenital dyserythropoietic anaemia ...</td>\n",
       "    </tr>\n",
       "  </tbody>\n",
       "</table>\n",
       "<p>141 rows × 2 columns</p>\n",
       "</div>"
      ],
      "text/plain": [
       "          code                                            display\n",
       "0     55907008                          Acquired aplastic anaemia\n",
       "1      5876000                              Acquired pancytopenia\n",
       "2    234376007                          Acquired red cell aplasia\n",
       "3     74576004                          Acquired thrombocytopenia\n",
       "4    439007008       Acquired thrombotic thrombocytopenic purpura\n",
       "..         ...                                                ...\n",
       "136  416902009                           Uraemic thrombocytopenia\n",
       "137  403837005  Wiskott-Aldrich autosomal dominant variant syn...\n",
       "138   36070007                           Wiskott-Aldrich syndrome\n",
       "139  719019000                             WT limb blood syndrome\n",
       "140  722475006  X-linked congenital dyserythropoietic anaemia ...\n",
       "\n",
       "[141 rows x 2 columns]"
      ]
     },
     "execution_count": 21,
     "metadata": {},
     "output_type": "execute_result"
    }
   ],
   "source": [
    "platelets # full platelets code list"
   ]
  },
  {
   "cell_type": "code",
   "execution_count": null,
   "id": "minor-ethiopia",
   "metadata": {},
   "outputs": [],
   "source": []
  }
 ],
 "metadata": {
  "kernelspec": {
   "display_name": "Python 3",
   "language": "python",
   "name": "python3"
  },
  "language_info": {
   "codemirror_mode": {
    "name": "ipython",
    "version": 3
   },
   "file_extension": ".py",
   "mimetype": "text/x-python",
   "name": "python",
   "nbconvert_exporter": "python",
   "pygments_lexer": "ipython3",
   "version": "3.7.1"
  }
 },
 "nbformat": 4,
 "nbformat_minor": 5
}
